{
  "cells": [
    {
      "cell_type": "code",
      "execution_count": null,
      "id": "59243edf",
      "metadata": {
        "id": "59243edf"
      },
      "outputs": [],
      "source": [
        "import tensorflow as tf\n",
        "import numpy as np\n",
        "import pandas as pd\n",
        "import matplotlib.pyplot as plt"
      ]
    },
    {
      "cell_type": "code",
      "execution_count": null,
      "id": "5296c0af",
      "metadata": {
        "id": "5296c0af"
      },
      "outputs": [],
      "source": [
        "%matplotlib inline"
      ]
    },
    {
      "cell_type": "markdown",
      "id": "7a8c718d",
      "metadata": {
        "id": "7a8c718d"
      },
      "source": [
        "# Getting Data"
      ]
    },
    {
      "cell_type": "code",
      "execution_count": null,
      "id": "52e00f73",
      "metadata": {
        "colab": {
          "base_uri": "https://localhost:8080/"
        },
        "id": "52e00f73",
        "outputId": "1b16cb03-8521-4717-fc24-d2e246fdfae2"
      },
      "outputs": [
        {
          "name": "stdout",
          "output_type": "stream",
          "text": [
            "Downloading data from https://storage.googleapis.com/tensorflow/tf-keras-datasets/train-labels-idx1-ubyte.gz\n",
            "32768/29515 [=================================] - 0s 0us/step\n",
            "40960/29515 [=========================================] - 0s 0us/step\n",
            "Downloading data from https://storage.googleapis.com/tensorflow/tf-keras-datasets/train-images-idx3-ubyte.gz\n",
            "26427392/26421880 [==============================] - 0s 0us/step\n",
            "26435584/26421880 [==============================] - 0s 0us/step\n",
            "Downloading data from https://storage.googleapis.com/tensorflow/tf-keras-datasets/t10k-labels-idx1-ubyte.gz\n",
            "16384/5148 [===============================================================================================] - 0s 0us/step\n",
            "Downloading data from https://storage.googleapis.com/tensorflow/tf-keras-datasets/t10k-images-idx3-ubyte.gz\n",
            "4423680/4422102 [==============================] - 0s 0us/step\n",
            "4431872/4422102 [==============================] - 0s 0us/step\n"
          ]
        }
      ],
      "source": [
        "from tensorflow.keras.datasets import fashion_mnist\n",
        "\n",
        "(X_train, y_train), (X_test, y_test) = fashion_mnist.load_data()"
      ]
    },
    {
      "cell_type": "code",
      "execution_count": null,
      "id": "49807538",
      "metadata": {
        "colab": {
          "base_uri": "https://localhost:8080/"
        },
        "id": "49807538",
        "outputId": "c31e3e45-d307-4fb2-c491-949934a33b0a"
      },
      "outputs": [
        {
          "data": {
            "text/plain": [
              "array([[[0, 0, 0, ..., 0, 0, 0],\n",
              "        [0, 0, 0, ..., 0, 0, 0],\n",
              "        [0, 0, 0, ..., 0, 0, 0],\n",
              "        ...,\n",
              "        [0, 0, 0, ..., 0, 0, 0],\n",
              "        [0, 0, 0, ..., 0, 0, 0],\n",
              "        [0, 0, 0, ..., 0, 0, 0]],\n",
              "\n",
              "       [[0, 0, 0, ..., 0, 0, 0],\n",
              "        [0, 0, 0, ..., 0, 0, 0],\n",
              "        [0, 0, 0, ..., 0, 0, 0],\n",
              "        ...,\n",
              "        [0, 0, 0, ..., 0, 0, 0],\n",
              "        [0, 0, 0, ..., 0, 0, 0],\n",
              "        [0, 0, 0, ..., 0, 0, 0]],\n",
              "\n",
              "       [[0, 0, 0, ..., 0, 0, 0],\n",
              "        [0, 0, 0, ..., 0, 0, 0],\n",
              "        [0, 0, 0, ..., 0, 0, 0],\n",
              "        ...,\n",
              "        [0, 0, 0, ..., 0, 0, 0],\n",
              "        [0, 0, 0, ..., 0, 0, 0],\n",
              "        [0, 0, 0, ..., 0, 0, 0]],\n",
              "\n",
              "       ...,\n",
              "\n",
              "       [[0, 0, 0, ..., 0, 0, 0],\n",
              "        [0, 0, 0, ..., 0, 0, 0],\n",
              "        [0, 0, 0, ..., 0, 0, 0],\n",
              "        ...,\n",
              "        [0, 0, 0, ..., 0, 0, 0],\n",
              "        [0, 0, 0, ..., 0, 0, 0],\n",
              "        [0, 0, 0, ..., 0, 0, 0]],\n",
              "\n",
              "       [[0, 0, 0, ..., 0, 0, 0],\n",
              "        [0, 0, 0, ..., 0, 0, 0],\n",
              "        [0, 0, 0, ..., 0, 0, 0],\n",
              "        ...,\n",
              "        [0, 0, 0, ..., 0, 0, 0],\n",
              "        [0, 0, 0, ..., 0, 0, 0],\n",
              "        [0, 0, 0, ..., 0, 0, 0]],\n",
              "\n",
              "       [[0, 0, 0, ..., 0, 0, 0],\n",
              "        [0, 0, 0, ..., 0, 0, 0],\n",
              "        [0, 0, 0, ..., 0, 0, 0],\n",
              "        ...,\n",
              "        [0, 0, 0, ..., 0, 0, 0],\n",
              "        [0, 0, 0, ..., 0, 0, 0],\n",
              "        [0, 0, 0, ..., 0, 0, 0]]], dtype=uint8)"
            ]
          },
          "execution_count": 4,
          "metadata": {},
          "output_type": "execute_result"
        }
      ],
      "source": [
        "X_train         # The images are in gray scale"
      ]
    },
    {
      "cell_type": "code",
      "execution_count": null,
      "id": "e19ea8c2",
      "metadata": {
        "colab": {
          "base_uri": "https://localhost:8080/"
        },
        "id": "e19ea8c2",
        "outputId": "fdbbd9ce-e754-425c-bc90-dac733108034"
      },
      "outputs": [
        {
          "data": {
            "text/plain": [
              "(60000, (28, 28))"
            ]
          },
          "execution_count": 5,
          "metadata": {},
          "output_type": "execute_result"
        }
      ],
      "source": [
        "len(X_train), X_train[0].shape"
      ]
    },
    {
      "cell_type": "markdown",
      "id": "9c5f998b",
      "metadata": {
        "id": "9c5f998b"
      },
      "source": [
        "![image.png](attachment:image.png)"
      ]
    },
    {
      "cell_type": "code",
      "execution_count": null,
      "id": "947e77f6",
      "metadata": {
        "id": "947e77f6"
      },
      "outputs": [],
      "source": [
        "class_names = ['T-shirt/top', 'Trouser', 'Pullover', 'Dress', 'Coat', \n",
        "               'Sandal', 'Shirt', 'Sneaker', 'Bag', 'Ankle boot']"
      ]
    },
    {
      "cell_type": "markdown",
      "id": "3ac0f60b",
      "metadata": {
        "id": "3ac0f60b"
      },
      "source": [
        "# Visualizing the data"
      ]
    },
    {
      "cell_type": "code",
      "execution_count": null,
      "id": "5ed3e20d",
      "metadata": {
        "colab": {
          "base_uri": "https://localhost:8080/",
          "height": 282
        },
        "id": "5ed3e20d",
        "outputId": "29f64a64-5ee6-423a-f48c-d76e1a46caeb"
      },
      "outputs": [
        {
          "data": {
            "text/plain": [
              "<matplotlib.image.AxesImage at 0x7fb5ad2a9710>"
            ]
          },
          "execution_count": 7,
          "metadata": {},
          "output_type": "execute_result"
        },
        {
          "data": {
            "image/png": "[encoded data removed]",
            "text/plain": [
              "<Figure size 432x288 with 1 Axes>"
            ]
          },
          "metadata": {
            "needs_background": "light"
          },
          "output_type": "display_data"
        }
      ],
      "source": [
        "# Let's plot the first image for reference\n",
        "\n",
        "plt.imshow(X_train[0])"
      ]
    },
    {
      "cell_type": "code",
      "execution_count": null,
      "id": "05409ec4",
      "metadata": {
        "colab": {
          "base_uri": "https://localhost:8080/"
        },
        "id": "05409ec4",
        "outputId": "49e5f360-7a86-4785-85ad-f355e0032899"
      },
      "outputs": [
        {
          "data": {
            "text/plain": [
              "9"
            ]
          },
          "execution_count": 8,
          "metadata": {},
          "output_type": "execute_result"
        }
      ],
      "source": [
        "y_train[0]                # These means it is an ankle boot"
      ]
    },
    {
      "cell_type": "code",
      "execution_count": null,
      "id": "3cf761da",
      "metadata": {
        "colab": {
          "base_uri": "https://localhost:8080/",
          "height": 297
        },
        "id": "3cf761da",
        "outputId": "dab81abb-b8ef-428c-f206-4ef048fd489b"
      },
      "outputs": [
        {
          "data": {
            "image/png": "[encoded data removed]",
            "text/plain": [
              "<Figure size 432x288 with 4 Axes>"
            ]
          },
          "metadata": {
            "needs_background": "light"
          },
          "output_type": "display_data"
        }
      ],
      "source": [
        "# Lets plot few more images\n",
        "\n",
        "for i in range(1, 5):\n",
        "    axes = plt.subplot(2, 2, i)\n",
        "    num = np.random.randint(0, len(X_train))\n",
        "    plt.imshow(X_train[num])\n",
        "    plt.title(f\"it is {class_names[y_train[num]]}\")\n",
        "\n",
        "plt.tight_layout()"
      ]
    },
    {
      "cell_type": "code",
      "execution_count": null,
      "id": "0c85b8db",
      "metadata": {
        "id": "0c85b8db"
      },
      "outputs": [],
      "source": []
    },
    {
      "cell_type": "markdown",
      "id": "74g0h-Vxm7Ia",
      "metadata": {
        "id": "74g0h-Vxm7Ia"
      },
      "source": [
        "# Data Normalization"
      ]
    },
    {
      "cell_type": "code",
      "execution_count": null,
      "id": "fQNbUxcEm9m8",
      "metadata": {
        "id": "fQNbUxcEm9m8"
      },
      "outputs": [],
      "source": [
        "X_train_norm = X_train / 255\n",
        "X_test_norm = X_test / 255"
      ]
    },
    {
      "cell_type": "code",
      "execution_count": null,
      "id": "g0RgulpAorM6",
      "metadata": {
        "id": "g0RgulpAorM6"
      },
      "outputs": [],
      "source": []
    },
    {
      "cell_type": "code",
      "execution_count": null,
      "id": "YRBHvzHzm921",
      "metadata": {
        "id": "YRBHvzHzm921"
      },
      "outputs": [],
      "source": []
    },
    {
      "cell_type": "code",
      "execution_count": null,
      "id": "HU2fdVZym9-S",
      "metadata": {
        "colab": {
          "base_uri": "https://localhost:8080/"
        },
        "id": "HU2fdVZym9-S",
        "outputId": "29efc11c-71db-4550-eba0-e7e6df3c67c5"
      },
      "outputs": [
        {
          "data": {
            "text/plain": [
              "array([9, 2, 1, 6, 4, 5, 7, 3, 8, 0], dtype=uint8)"
            ]
          },
          "execution_count": 45,
          "metadata": {},
          "output_type": "execute_result"
        }
      ],
      "source": [
        "pd.Series(y_test).unique()"
      ]
    },
    {
      "cell_type": "markdown",
      "id": "7f6a9932",
      "metadata": {
        "id": "7f6a9932"
      },
      "source": [
        "# Building model"
      ]
    },
    {
      "cell_type": "markdown",
      "id": "af5ebe99",
      "metadata": {
        "id": "af5ebe99"
      },
      "source": [
        "<div class=\"alert alert-block alert-info\">\n",
        "<b>Tip:</b> \n",
        " \n",
        " - Here the input data to the model will be (28, 28). So we will use a flatten layer as input layer to convert (28, 28)  (1,784)\n",
        "\n",
        " -  The outdata will be a 10 neuron layer and output activation function will be softmax so that we can get the output for all 10 values and based on highest we can consider as its label\n",
        "\n",
        "    \n",
        "</div>"
      ]
    },
    {
      "cell_type": "code",
      "execution_count": null,
      "id": "affab120",
      "metadata": {
        "colab": {
          "base_uri": "https://localhost:8080/"
        },
        "id": "affab120",
        "outputId": "9bcd76e7-4860-4178-d33f-0b4783c1b89a"
      },
      "outputs": [
        {
          "name": "stdout",
          "output_type": "stream",
          "text": [
            "Epoch 1/10\n",
            "1875/1875 [==============================] - 6s 3ms/step - loss: 0.4924 - accuracy: 0.8237 - val_loss: 0.3991 - val_accuracy: 0.8559\n",
            "Epoch 2/10\n",
            "1875/1875 [==============================] - 5s 3ms/step - loss: 0.3648 - accuracy: 0.8670 - val_loss: 0.3868 - val_accuracy: 0.8577\n",
            "Epoch 3/10\n",
            "1875/1875 [==============================] - 5s 3ms/step - loss: 0.3312 - accuracy: 0.8783 - val_loss: 0.3552 - val_accuracy: 0.8730\n",
            "Epoch 4/10\n",
            "1875/1875 [==============================] - 7s 4ms/step - loss: 0.3074 - accuracy: 0.8867 - val_loss: 0.3603 - val_accuracy: 0.8718\n",
            "Epoch 5/10\n",
            "1875/1875 [==============================] - 6s 3ms/step - loss: 0.2937 - accuracy: 0.8895 - val_loss: 0.3450 - val_accuracy: 0.8755\n",
            "Epoch 6/10\n",
            "1875/1875 [==============================] - 5s 3ms/step - loss: 0.2780 - accuracy: 0.8959 - val_loss: 0.3539 - val_accuracy: 0.8713\n",
            "Epoch 7/10\n",
            "1875/1875 [==============================] - 5s 3ms/step - loss: 0.2649 - accuracy: 0.9003 - val_loss: 0.3481 - val_accuracy: 0.8737\n",
            "Epoch 8/10\n",
            "1875/1875 [==============================] - 5s 3ms/step - loss: 0.2551 - accuracy: 0.9048 - val_loss: 0.3626 - val_accuracy: 0.8725\n",
            "Epoch 9/10\n",
            "1875/1875 [==============================] - 5s 3ms/step - loss: 0.2438 - accuracy: 0.9078 - val_loss: 0.3453 - val_accuracy: 0.8820\n",
            "Epoch 10/10\n",
            "1875/1875 [==============================] - 5s 3ms/step - loss: 0.2378 - accuracy: 0.9103 - val_loss: 0.3355 - val_accuracy: 0.8819\n"
          ]
        }
      ],
      "source": [
        "model = tf.keras.Sequential([\n",
        "    \n",
        "    tf.keras.layers.Flatten(input_shape = (28, 28)),\n",
        "    tf.keras.layers.Dense(100, activation = \"relu\"),\n",
        "    tf.keras.layers.Dense(100, activation = \"relu\"),\n",
        "    tf.keras.layers.Dense(10, activation = \"softmax\")\n",
        "    \n",
        "    \n",
        "    \n",
        "])\n",
        "\n",
        "model.compile(\n",
        "\n",
        "    loss = tf.keras.losses.SparseCategoricalCrossentropy(),\n",
        "    optimizer = tf.keras.optimizers.Adam(learning_rate = 0.001),\n",
        "    metrics = [\"accuracy\"]\n",
        "\n",
        ")\n",
        "\n",
        "\n",
        "history = model.fit(X_train_norm, y_train, epochs = 10, validation_data = (X_test_norm, y_test))"
      ]
    },
    {
      "cell_type": "code",
      "execution_count": null,
      "id": "f5a142de",
      "metadata": {
        "colab": {
          "base_uri": "https://localhost:8080/",
          "height": 282
        },
        "id": "f5a142de",
        "outputId": "0c55eba4-541a-45c2-b779-ce064eb24aa8"
      },
      "outputs": [
        {
          "data": {
            "text/plain": [
              "<matplotlib.axes._subplots.AxesSubplot at 0x7fb5976d8110>"
            ]
          },
          "execution_count": 50,
          "metadata": {},
          "output_type": "execute_result"
        },
        {
          "data": {
            "image/png": "[encoded data removed]",
            "text/plain": [
              "<Figure size 432x288 with 1 Axes>"
            ]
          },
          "metadata": {
            "needs_background": "light"
          },
          "output_type": "display_data"
        }
      ],
      "source": [
        "pd.DataFrame(history.history).plot()"
      ]
    },
    {
      "cell_type": "code",
      "execution_count": null,
      "id": "_w63-Fl3XIxT",
      "metadata": {
        "id": "_w63-Fl3XIxT"
      },
      "outputs": [],
      "source": []
    },
    {
      "cell_type": "markdown",
      "id": "chZMEAuKXUQv",
      "metadata": {
        "id": "chZMEAuKXUQv"
      },
      "source": [
        "# Finding Optimal Learning Rate"
      ]
    },
    {
      "cell_type": "code",
      "execution_count": null,
      "id": "BWtYop1cXTDv",
      "metadata": {
        "colab": {
          "base_uri": "https://localhost:8080/"
        },
        "id": "BWtYop1cXTDv",
        "outputId": "db4ea836-95f4-4100-9d13-bc38d28e5f1a"
      },
      "outputs": [
        {
          "name": "stdout",
          "output_type": "stream",
          "text": [
            "Epoch 1/10\n",
            "1875/1875 [==============================] - 6s 3ms/step - loss: 0.4907 - accuracy: 0.8253 - val_loss: 0.4195 - val_accuracy: 0.8454 - lr: 0.0010\n",
            "Epoch 2/10\n",
            "1875/1875 [==============================] - 5s 3ms/step - loss: 0.3687 - accuracy: 0.8655 - val_loss: 0.3822 - val_accuracy: 0.8652 - lr: 0.0011\n",
            "Epoch 3/10\n",
            "1875/1875 [==============================] - 5s 3ms/step - loss: 0.3399 - accuracy: 0.8741 - val_loss: 0.3765 - val_accuracy: 0.8646 - lr: 0.0013\n",
            "Epoch 4/10\n",
            "1875/1875 [==============================] - 5s 3ms/step - loss: 0.3207 - accuracy: 0.8820 - val_loss: 0.3494 - val_accuracy: 0.8763 - lr: 0.0014\n",
            "Epoch 5/10\n",
            "1875/1875 [==============================] - 5s 3ms/step - loss: 0.3092 - accuracy: 0.8853 - val_loss: 0.3506 - val_accuracy: 0.8715 - lr: 0.0016\n",
            "Epoch 6/10\n",
            "1875/1875 [==============================] - 5s 3ms/step - loss: 0.3025 - accuracy: 0.8881 - val_loss: 0.4035 - val_accuracy: 0.8639 - lr: 0.0018\n",
            "Epoch 7/10\n",
            "1875/1875 [==============================] - 5s 3ms/step - loss: 0.2983 - accuracy: 0.8890 - val_loss: 0.3548 - val_accuracy: 0.8760 - lr: 0.0020\n",
            "Epoch 8/10\n",
            "1875/1875 [==============================] - 5s 3ms/step - loss: 0.2966 - accuracy: 0.8888 - val_loss: 0.3818 - val_accuracy: 0.8675 - lr: 0.0022\n",
            "Epoch 9/10\n",
            "1875/1875 [==============================] - 5s 3ms/step - loss: 0.2940 - accuracy: 0.8913 - val_loss: 0.3731 - val_accuracy: 0.8725 - lr: 0.0025\n",
            "Epoch 10/10\n",
            "1875/1875 [==============================] - 5s 3ms/step - loss: 0.2933 - accuracy: 0.8918 - val_loss: 0.3648 - val_accuracy: 0.8756 - lr: 0.0028\n"
          ]
        }
      ],
      "source": [
        "model2 = tf.keras.Sequential([\n",
        "             tf.keras.layers.Flatten(input_shape = (28, 28)),\n",
        "             tf.keras.layers.Dense(100, activation = \"relu\"),\n",
        "             tf.keras.layers.Dense(100, activation = \"relu\"),   \n",
        "             tf.keras.layers.Dense(10, activation = \"softmax\")                 \n",
        "\n",
        "])\n",
        "\n",
        "model2.compile(\n",
        "\n",
        "    loss = tf.keras.losses.SparseCategoricalCrossentropy(),\n",
        "    optimizer = tf.keras.optimizers.Adam(),\n",
        "    metrics = \"accuracy\"\n",
        "\n",
        ")\n",
        "\n",
        "scheduler = tf.keras.callbacks.LearningRateScheduler(lambda epoch: 1e-3 * 10 ** (epoch/20))\n",
        "\n",
        "history2 = model2.fit(X_train_norm, y_train, epochs = 10, validation_data=(X_test_norm, y_test), callbacks=[scheduler])"
      ]
    },
    {
      "cell_type": "code",
      "execution_count": null,
      "id": "q0ogcig3lkvP",
      "metadata": {
        "colab": {
          "base_uri": "https://localhost:8080/",
          "height": 298
        },
        "id": "q0ogcig3lkvP",
        "outputId": "eeb109b1-3d67-4858-8454-a378c97cf806"
      },
      "outputs": [
        {
          "data": {
            "image/png": "[encoded data removed]",
            "text/plain": [
              "<Figure size 432x288 with 1 Axes>"
            ]
          },
          "metadata": {
            "needs_background": "light"
          },
          "output_type": "display_data"
        }
      ],
      "source": [
        "lrs = 1e-3 * 10 ** (np.arange(1, 11) / 20)\n",
        "plt.semilogx(lrs, history2.history[\"loss\"])\n",
        "\n",
        "plt.xlabel(\"Learning Rate\")\n",
        "plt.ylabel(\"Loss\")\n",
        "plt.title(\"Finding the ideal learning rate\");"
      ]
    },
    {
      "cell_type": "code",
      "execution_count": null,
      "id": "m9-6b_kzp5wc",
      "metadata": {
        "id": "m9-6b_kzp5wc"
      },
      "outputs": [],
      "source": [
        "# The the lowest is after 3 * 10^-3 . As we need to get back 10 times back. Lets take optimal lr = 0.001"
      ]
    },
    {
      "cell_type": "code",
      "execution_count": null,
      "id": "9QByiOTJrBZN",
      "metadata": {
        "id": "9QByiOTJrBZN"
      },
      "outputs": [],
      "source": []
    },
    {
      "cell_type": "code",
      "execution_count": null,
      "id": "t6dvG9JOy5yW",
      "metadata": {
        "id": "t6dvG9JOy5yW"
      },
      "outputs": [],
      "source": []
    },
    {
      "cell_type": "markdown",
      "id": "LL9BNgtFrBms",
      "metadata": {
        "id": "LL9BNgtFrBms"
      },
      "source": [
        "# Model with optimum learning rate"
      ]
    },
    {
      "cell_type": "code",
      "execution_count": null,
      "id": "8dmSsZE-rEKI",
      "metadata": {
        "colab": {
          "base_uri": "https://localhost:8080/"
        },
        "id": "8dmSsZE-rEKI",
        "outputId": "efe3ff78-1e4d-4619-a57e-49d31bc38668"
      },
      "outputs": [
        {
          "name": "stdout",
          "output_type": "stream",
          "text": [
            "Epoch 1/10\n",
            "1875/1875 [==============================] - 6s 3ms/step - loss: 0.4885 - accuracy: 0.8225 - val_loss: 0.4024 - val_accuracy: 0.8555\n",
            "Epoch 2/10\n",
            "1875/1875 [==============================] - 6s 3ms/step - loss: 0.3635 - accuracy: 0.8683 - val_loss: 0.3639 - val_accuracy: 0.8662\n",
            "Epoch 3/10\n",
            "1875/1875 [==============================] - 6s 3ms/step - loss: 0.3295 - accuracy: 0.8780 - val_loss: 0.3524 - val_accuracy: 0.8745\n",
            "Epoch 4/10\n",
            "1875/1875 [==============================] - 5s 3ms/step - loss: 0.3115 - accuracy: 0.8845 - val_loss: 0.3549 - val_accuracy: 0.8716\n",
            "Epoch 5/10\n",
            "1875/1875 [==============================] - 5s 3ms/step - loss: 0.2945 - accuracy: 0.8904 - val_loss: 0.3515 - val_accuracy: 0.8766\n",
            "Epoch 6/10\n",
            "1875/1875 [==============================] - 5s 3ms/step - loss: 0.2788 - accuracy: 0.8948 - val_loss: 0.3321 - val_accuracy: 0.8812\n",
            "Epoch 7/10\n",
            "1875/1875 [==============================] - 5s 3ms/step - loss: 0.2668 - accuracy: 0.8990 - val_loss: 0.3544 - val_accuracy: 0.8767\n",
            "Epoch 8/10\n",
            "1875/1875 [==============================] - 5s 3ms/step - loss: 0.2550 - accuracy: 0.9037 - val_loss: 0.3590 - val_accuracy: 0.8751\n",
            "Epoch 9/10\n",
            "1875/1875 [==============================] - 5s 3ms/step - loss: 0.2472 - accuracy: 0.9068 - val_loss: 0.3312 - val_accuracy: 0.8868\n",
            "Epoch 10/10\n",
            "1875/1875 [==============================] - 5s 3ms/step - loss: 0.2341 - accuracy: 0.9112 - val_loss: 0.3592 - val_accuracy: 0.8765\n"
          ]
        }
      ],
      "source": [
        "model3 = tf.keras.Sequential([\n",
        "             tf.keras.layers.Flatten(input_shape = (28, 28)),\n",
        "             tf.keras.layers.Dense(100, activation = \"relu\"),\n",
        "             tf.keras.layers.Dense(100, activation = \"relu\"),   \n",
        "             tf.keras.layers.Dense(10, activation = \"softmax\")                 \n",
        "\n",
        "])\n",
        "\n",
        "model3.compile(\n",
        "\n",
        "    loss = tf.keras.losses.SparseCategoricalCrossentropy(),\n",
        "    optimizer = tf.keras.optimizers.Adam(learning_rate = 0.001),\n",
        "    metrics = \"accuracy\"\n",
        "\n",
        ")\n",
        "\n",
        "\n",
        "\n",
        "history3 = model3.fit(X_train_norm, y_train, epochs = 10, validation_data=(X_test_norm, y_test))"
      ]
    },
    {
      "cell_type": "code",
      "execution_count": null,
      "id": "DMT8I3_trFpx",
      "metadata": {
        "id": "DMT8I3_trFpx"
      },
      "outputs": [],
      "source": []
    },
    {
      "cell_type": "code",
      "execution_count": null,
      "id": "fcyAhiSwy7Td",
      "metadata": {
        "id": "fcyAhiSwy7Td"
      },
      "outputs": [],
      "source": []
    },
    {
      "cell_type": "markdown",
      "id": "4WJmPov2y7nL",
      "metadata": {
        "id": "4WJmPov2y7nL"
      },
      "source": [
        "# Evaluating Model\n",
        "\n",
        "\n"
      ]
    },
    {
      "cell_type": "code",
      "execution_count": null,
      "id": "sXYKJCcqy_GA",
      "metadata": {
        "colab": {
          "base_uri": "https://localhost:8080/"
        },
        "id": "sXYKJCcqy_GA",
        "outputId": "ba08f911-944c-469e-93be-88b29537b0dc"
      },
      "outputs": [
        {
          "name": "stdout",
          "output_type": "stream",
          "text": [
            "313/313 [==============================] - 1s 2ms/step - loss: 0.3592 - accuracy: 0.8765\n"
          ]
        },
        {
          "data": {
            "text/plain": [
              "[0.3591814637184143, 0.8765000104904175]"
            ]
          },
          "execution_count": 63,
          "metadata": {},
          "output_type": "execute_result"
        }
      ],
      "source": [
        "model3.evaluate(X_test_norm, y_test)"
      ]
    },
    {
      "cell_type": "code",
      "execution_count": null,
      "id": "1cnXmv-xzyw6",
      "metadata": {
        "id": "1cnXmv-xzyw6"
      },
      "outputs": [],
      "source": [
        "y_pred = model3.predict(X_test_norm)"
      ]
    },
    {
      "cell_type": "code",
      "execution_count": 88,
      "id": "AXeZAw8bz4TJ",
      "metadata": {
        "colab": {
          "base_uri": "https://localhost:8080/",
          "height": 297
        },
        "id": "AXeZAw8bz4TJ",
        "outputId": "6ce5cd11-b160-4b10-c9fc-b9202d9d12dd"
      },
      "outputs": [
        {
          "data": {
            "image/png": "[encoded data removed]",
            "text/plain": [
              "<Figure size 432x288 with 4 Axes>"
            ]
          },
          "metadata": {
            "needs_background": "light"
          },
          "output_type": "display_data"
        }
      ],
      "source": [
        "\n",
        "\n",
        "for i in range(1, 5):\n",
        "  axes = plt.subplot(2, 2, i)\n",
        "  ran = np.random.randint(0, len(X_test))\n",
        "  \n",
        "  plt.imshow(X_test[ran])\n",
        "  plt.title(f\"predicted label = {class_names[tf.argmax(y_pred[ran])]}\" )\n",
        "  plt.xlabel(f\"True label = {class_names[y_test[ran]]}\")\n",
        "\n",
        "plt.tight_layout()\n",
        "  "
      ]
    },
    {
      "cell_type": "code",
      "execution_count": 87,
      "id": "TkGSWUDa0DpE",
      "metadata": {
        "id": "TkGSWUDa0DpE"
      },
      "outputs": [],
      "source": []
    },
    {
      "cell_type": "code",
      "execution_count": null,
      "id": "WHvgiiyH4be7",
      "metadata": {
        "id": "WHvgiiyH4be7"
      },
      "outputs": [],
      "source": []
    },
    {
      "cell_type": "markdown",
      "id": "Rpq_lGGW4jUc",
      "metadata": {
        "id": "Rpq_lGGW4jUc"
      },
      "source": [
        "# Details about the model"
      ]
    },
    {
      "cell_type": "code",
      "execution_count": 90,
      "id": "2-heWVLZ4fIH",
      "metadata": {
        "colab": {
          "base_uri": "https://localhost:8080/"
        },
        "id": "2-heWVLZ4fIH",
        "outputId": "1e65f5e7-0060-403c-c0a8-4dfd04eaca23"
      },
      "outputs": [
        {
          "name": "stdout",
          "output_type": "stream",
          "text": [
            "Model: \"sequential_19\"\n",
            "_________________________________________________________________\n",
            " Layer (type)                Output Shape              Param #   \n",
            "=================================================================\n",
            " flatten_19 (Flatten)        (None, 784)               0         \n",
            "                                                                 \n",
            " dense_57 (Dense)            (None, 100)               78500     \n",
            "                                                                 \n",
            " dense_58 (Dense)            (None, 100)               10100     \n",
            "                                                                 \n",
            " dense_59 (Dense)            (None, 10)                1010      \n",
            "                                                                 \n",
            "=================================================================\n",
            "Total params: 89,610\n",
            "Trainable params: 89,610\n",
            "Non-trainable params: 0\n",
            "_________________________________________________________________\n"
          ]
        }
      ],
      "source": [
        "model3.summary()"
      ]
    },
    {
      "cell_type": "code",
      "execution_count": 91,
      "id": "dlNYna6f4lPL",
      "metadata": {
        "colab": {
          "base_uri": "https://localhost:8080/"
        },
        "id": "dlNYna6f4lPL",
        "outputId": "ab611c4e-b851-4a75-b18a-63c56aeb7f63"
      },
      "outputs": [
        {
          "data": {
            "text/plain": [
              "[<keras.layers.core.flatten.Flatten at 0x7fb5a1a2ac10>,\n",
              " <keras.layers.core.dense.Dense at 0x7fb5a1a2a510>,\n",
              " <keras.layers.core.dense.Dense at 0x7fb5a1a02d50>,\n",
              " <keras.layers.core.dense.Dense at 0x7fb5a1a02510>]"
            ]
          },
          "execution_count": 91,
          "metadata": {},
          "output_type": "execute_result"
        }
      ],
      "source": [
        "model3.layers"
      ]
    },
    {
      "cell_type": "code",
      "execution_count": 96,
      "id": "Z5KmzvAS54mB",
      "metadata": {
        "colab": {
          "base_uri": "https://localhost:8080/"
        },
        "id": "Z5KmzvAS54mB",
        "outputId": "4d127265-729c-46ef-d341-91b0bb66eea2"
      },
      "outputs": [
        {
          "data": {
            "text/plain": [
              "[]"
            ]
          },
          "execution_count": 96,
          "metadata": {},
          "output_type": "execute_result"
        }
      ],
      "source": [
        "model3.layers[0].get_weights()\n",
        "\n",
        "# The output is expected as there will be no weights in input layer"
      ]
    },
    {
      "cell_type": "code",
      "execution_count": 104,
      "id": "syXVnjMf56hO",
      "metadata": {
        "colab": {
          "base_uri": "https://localhost:8080/"
        },
        "id": "syXVnjMf56hO",
        "outputId": "91cdb582-d412-4235-c969-561adc3c514c"
      },
      "outputs": [
        {
          "data": {
            "text/plain": [
              "[<tf.Variable 'dense_57/kernel:0' shape=(784, 100) dtype=float32, numpy=\n",
              " array([[ 0.1380296 ,  0.00632005,  0.04040105, ..., -0.08490103,\n",
              "          0.0037901 , -0.14392258],\n",
              "        [-0.15238187,  0.21868478, -0.06226686, ...,  0.1882737 ,\n",
              "         -0.00978923,  0.14491734],\n",
              "        [-0.04384134, -0.05525348,  0.05490864, ...,  0.44768324,\n",
              "         -0.04119146, -0.14879036],\n",
              "        ...,\n",
              "        [ 0.19773813, -0.02016106,  0.11704664, ..., -0.03586232,\n",
              "         -0.10237535,  0.16803224],\n",
              "        [ 0.08223496, -0.1373087 ,  0.2590479 , ...,  0.12817422,\n",
              "          0.00189848,  0.27880642],\n",
              "        [ 0.24747814, -0.41406074, -0.06548243, ...,  0.07279631,\n",
              "          0.00777229,  0.04003876]], dtype=float32)>,\n",
              " <tf.Variable 'dense_57/bias:0' shape=(100,) dtype=float32, numpy=\n",
              " array([ 0.27034098, -0.37405345,  0.04072476,  0.2251936 ,  0.00493916,\n",
              "         0.10694931, -0.00390666,  0.48063025,  0.23823081,  0.1675609 ,\n",
              "         0.19473663,  0.32140392, -0.21195668,  0.07884661,  0.10033258,\n",
              "         0.8316978 ,  0.67438316, -0.11318583, -0.14465068,  0.05462637,\n",
              "        -0.6202811 ,  0.23191826, -0.47838542,  0.30187386,  0.13858902,\n",
              "        -0.27923253,  0.09831216,  0.17763647, -0.01837877, -0.47418687,\n",
              "        -0.03160759, -0.07417645,  0.01452127,  0.16655283,  0.538825  ,\n",
              "         0.20840257,  0.42479798,  0.25492594,  0.0400485 ,  0.0764055 ,\n",
              "         0.17897755,  0.23748481,  0.30233616,  0.42608237,  0.32146394,\n",
              "        -0.48419696,  0.04932157, -0.12125205, -0.37050232,  0.11839054,\n",
              "         0.00534941,  0.31534427,  0.03700486, -0.1709646 ,  0.00362516,\n",
              "         0.21603072,  0.08569103,  0.15457404,  0.57399434,  0.5204599 ,\n",
              "         0.19765818,  0.3293062 ,  0.32443097,  0.06309416,  0.41422632,\n",
              "         0.2761671 ,  0.00274057,  0.05211956,  0.07887235, -0.35490316,\n",
              "        -0.07022123, -0.5169909 , -0.1370887 ,  0.5023624 , -0.02249365,\n",
              "         0.41587526,  0.18111648,  0.33647183,  0.5487821 , -0.19138749,\n",
              "        -0.43140224, -0.06724694,  0.40509197,  0.00311415,  0.31759036,\n",
              "         0.43131894, -0.3447707 ,  0.03748545,  0.12204009,  0.40906742,\n",
              "         0.46748936,  0.3518265 ,  0.12344608,  0.18562937,  0.45573324,\n",
              "         0.15394   ,  0.08444353, -0.01345673, -0.03193274, -0.03976213],\n",
              "       dtype=float32)>]"
            ]
          },
          "execution_count": 104,
          "metadata": {},
          "output_type": "execute_result"
        }
      ],
      "source": [
        "# Lets see the weights of the first hidden layer\n",
        "\n",
        "model3.layers[1].weights"
      ]
    },
    {
      "cell_type": "code",
      "execution_count": 101,
      "id": "9AW9LOlv6Edp",
      "metadata": {
        "colab": {
          "base_uri": "https://localhost:8080/"
        },
        "id": "9AW9LOlv6Edp",
        "outputId": "927fa3ca-2da0-47bb-8c0a-a1d558d18d80"
      },
      "outputs": [
        {
          "data": {
            "text/plain": [
              "<tf.Variable 'dense_57/bias:0' shape=(100,) dtype=float32, numpy=\n",
              "array([ 0.27034098, -0.37405345,  0.04072476,  0.2251936 ,  0.00493916,\n",
              "        0.10694931, -0.00390666,  0.48063025,  0.23823081,  0.1675609 ,\n",
              "        0.19473663,  0.32140392, -0.21195668,  0.07884661,  0.10033258,\n",
              "        0.8316978 ,  0.67438316, -0.11318583, -0.14465068,  0.05462637,\n",
              "       -0.6202811 ,  0.23191826, -0.47838542,  0.30187386,  0.13858902,\n",
              "       -0.27923253,  0.09831216,  0.17763647, -0.01837877, -0.47418687,\n",
              "       -0.03160759, -0.07417645,  0.01452127,  0.16655283,  0.538825  ,\n",
              "        0.20840257,  0.42479798,  0.25492594,  0.0400485 ,  0.0764055 ,\n",
              "        0.17897755,  0.23748481,  0.30233616,  0.42608237,  0.32146394,\n",
              "       -0.48419696,  0.04932157, -0.12125205, -0.37050232,  0.11839054,\n",
              "        0.00534941,  0.31534427,  0.03700486, -0.1709646 ,  0.00362516,\n",
              "        0.21603072,  0.08569103,  0.15457404,  0.57399434,  0.5204599 ,\n",
              "        0.19765818,  0.3293062 ,  0.32443097,  0.06309416,  0.41422632,\n",
              "        0.2761671 ,  0.00274057,  0.05211956,  0.07887235, -0.35490316,\n",
              "       -0.07022123, -0.5169909 , -0.1370887 ,  0.5023624 , -0.02249365,\n",
              "        0.41587526,  0.18111648,  0.33647183,  0.5487821 , -0.19138749,\n",
              "       -0.43140224, -0.06724694,  0.40509197,  0.00311415,  0.31759036,\n",
              "        0.43131894, -0.3447707 ,  0.03748545,  0.12204009,  0.40906742,\n",
              "        0.46748936,  0.3518265 ,  0.12344608,  0.18562937,  0.45573324,\n",
              "        0.15394   ,  0.08444353, -0.01345673, -0.03193274, -0.03976213],\n",
              "      dtype=float32)>"
            ]
          },
          "execution_count": 101,
          "metadata": {},
          "output_type": "execute_result"
        }
      ],
      "source": [
        "# Lets see the biases of the first hidden layer\n",
        "\n",
        "model3.layers[1].bias                        # The length is 100 as there are 100 neurons and bias will be there for each neuron"
      ]
    },
    {
      "cell_type": "code",
      "execution_count": 104,
      "id": "vzktVjdS6Tul",
      "metadata": {
        "id": "vzktVjdS6Tul"
      },
      "outputs": [],
      "source": []
    },
    {
      "cell_type": "code",
      "execution_count": 106,
      "id": "SJG5BRDI6jR-",
      "metadata": {
        "id": "SJG5BRDI6jR-"
      },
      "outputs": [],
      "source": [
        "    "
      ]
    },
    {
      "cell_type": "markdown",
      "id": "Bk6ufnyI7PAk",
      "metadata": {
        "id": "Bk6ufnyI7PAk"
      },
      "source": [
        "# Plotting the model"
      ]
    },
    {
      "cell_type": "code",
      "execution_count": 111,
      "id": "v5ElRAVq7LzE",
      "metadata": {
        "colab": {
          "base_uri": "https://localhost:8080/",
          "height": 533
        },
        "id": "v5ElRAVq7LzE",
        "outputId": "45a5b667-ce93-440d-d738-c060e28a7baa"
      },
      "outputs": [
        {
          "data": {
            "image/png": "[encoded data removed]",
            "text/plain": [
              "<IPython.core.display.Image object>"
            ]
          },
          "execution_count": 111,
          "metadata": {},
          "output_type": "execute_result"
        }
      ],
      "source": [
        "from tensorflow.keras.utils import plot_model\n",
        "\n",
        "# See the inputs and outputs of each layer\n",
        "plot_model(model3, show_shapes=True)"
      ]
    },
    {
      "cell_type": "code",
      "execution_count": null,
      "id": "J5b1WeIn7MFK",
      "metadata": {
        "id": "J5b1WeIn7MFK"
      },
      "outputs": [],
      "source": []
    }
  ],
  "metadata": {
    "colab": {
      "collapsed_sections": [],
      "name": "Classification - Project mnist.ipynb",
      "provenance": []
    },
    "kernelspec": {
      "display_name": "Python 3",
      "language": "python",
      "name": "python3"
    },
    "language_info": {
      "codemirror_mode": {
        "name": "ipython",
        "version": 3
      },
      "file_extension": ".py",
      "mimetype": "text/x-python",
      "name": "python",
      "nbconvert_exporter": "python",
      "pygments_lexer": "ipython3",
      "version": "3.8.8"
    }
  },
  "nbformat": 4,
  "nbformat_minor": 5
}
